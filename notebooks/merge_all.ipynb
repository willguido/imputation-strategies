{
 "cells": [
  {
   "cell_type": "code",
   "execution_count": null,
   "metadata": {},
   "outputs": [],
   "source": [
    "# All SCIVIAS data paths\n",
    "subjects_path = ''\n",
    "hpo_path = ''\n",
    "diag_path = ''\n",
    "gene_path = ''\n",
    "protein_path = ''"
   ]
  },
  {
   "cell_type": "code",
   "execution_count": 2,
   "metadata": {},
   "outputs": [],
   "source": [
    "import pandas as pd\n",
    "\n",
    "hpo = pd.read_csv(hpo_path, encoding='ascii', delimiter=';')\n",
    "diag = pd.read_csv(diag_path, encoding='ISO-8859-1', delimiter=';')\n",
    "gene = pd.read_csv(gene_path, encoding='ascii', delimiter=';')\n",
    "protein = pd.read_csv(protein_path, encoding='ascii', delimiter=';')\n",
    "\n",
    "# Standardize patient ID column name across all dataframes\n",
    "diag.rename(columns={'subject_id': 'SCIDPSEUDONYM'}, inplace=True)"
   ]
  },
  {
   "cell_type": "code",
   "execution_count": 3,
   "metadata": {},
   "outputs": [],
   "source": [
    "# HPO Binary Encoding\n",
    "\n",
    "hpo_binary = hpo.pivot_table(index='SCIDPSEUDONYM', columns='hpoTermId', aggfunc=lambda x: 1, fill_value=0)\n",
    "hpo_binary.columns = [f\"HPO_{col}\" for col in hpo_binary.columns]\n",
    "hpo_binary.reset_index(inplace=True)# Create binary encoding for HPO terms\n",
    "hpo_binary = hpo.pivot_table(index='SCIDPSEUDONYM', columns='hpoTermId', aggfunc=lambda x: 1, fill_value=0)\n",
    "hpo_binary.columns = [f\"HPO_{col}\" for col in hpo_binary.columns]\n",
    "hpo_binary.reset_index(inplace=True)"
   ]
  },
  {
   "cell_type": "code",
   "execution_count": null,
   "metadata": {},
   "outputs": [],
   "source": [
    "hpo_binary.head()"
   ]
  },
  {
   "cell_type": "code",
   "execution_count": null,
   "metadata": {},
   "outputs": [],
   "source": [
    "diag_processed = diag.copy()\n",
    "\n",
    "# Combine 'diag' and 'genetically_confirmed' into a single column\n",
    "diag_processed['Combined'] = diag_processed.apply(\n",
    "    lambda row: f\"{row['diag']} (Genetically confirmed: {row['genetically_confirmed']})\"\n",
    "    if not pd.isna(row['genetically_confirmed']) else row['diag'],\n",
    "    axis=1\n",
    ")\n",
    "\n",
    "# Group by 'SCIDPSEUDONYM' and aggregate diagnoses into a single text\n",
    "diag_processed = diag_processed.groupby('SCIDPSEUDONYM')['Combined'].apply(\n",
    "    lambda x: '; '.join(x.dropna().unique())\n",
    ").reset_index()\n",
    "\n",
    "diag_processed.rename(columns={'Combined': 'Diagnosis'}, inplace=True)\n",
    "\n",
    "\n",
    "diag_processed.head()"
   ]
  },
  {
   "cell_type": "code",
   "execution_count": null,
   "metadata": {},
   "outputs": [],
   "source": [
    "# One column per gene\n",
    "gene['CADD'] = gene['CADD'].str.replace(',', '.').astype(float)\n",
    "gene_pivot = gene.pivot_table(index='SCIDPSEUDONYM', columns='gene', values='CADD', aggfunc='first')\n",
    "gene_pivot.columns = [f\"Gene_{col}\" for col in gene_pivot.columns]\n",
    "gene_pivot.reset_index(inplace=True)\n",
    "\n",
    "gene_pivot.head()"
   ]
  },
  {
   "cell_type": "code",
   "execution_count": null,
   "metadata": {},
   "outputs": [],
   "source": [
    "# One column per protein\n",
    "protein_pivot = protein.pivot_table(index='SCIDPSEUDONYM', columns='Gene', values='VALUE', aggfunc='first')\n",
    "protein_pivot.columns = [f\"Protein_{col}\" for col in protein_pivot.columns]\n",
    "protein_pivot.reset_index(inplace=True)\n",
    "\n",
    "protein_pivot.head()"
   ]
  },
  {
   "cell_type": "code",
   "execution_count": 8,
   "metadata": {},
   "outputs": [],
   "source": [
    "# Merge all\n",
    "\n",
    "merged_df = diag_processed.merge(hpo_binary, on='SCIDPSEUDONYM', how='outer')\n",
    "merged_df = merged_df.merge(gene_pivot, on='SCIDPSEUDONYM', how='outer')\n",
    "merged_df = merged_df.merge(protein_pivot, on='SCIDPSEUDONYM', how='outer')"
   ]
  },
  {
   "cell_type": "code",
   "execution_count": 9,
   "metadata": {},
   "outputs": [
    {
     "name": "stdout",
     "output_type": "stream",
     "text": [
      "Rows: 2345\n",
      "Columns: 2522\n"
     ]
    }
   ],
   "source": [
    "print(\"Rows:\", merged_df.shape[0])\n",
    "print(\"Columns:\", merged_df.shape[1])"
   ]
  },
  {
   "cell_type": "code",
   "execution_count": 10,
   "metadata": {},
   "outputs": [
    {
     "data": {
      "text/plain": [
       "2345"
      ]
     },
     "execution_count": 10,
     "metadata": {},
     "output_type": "execute_result"
    }
   ],
   "source": [
    "merged_df['SCIDPSEUDONYM'].nunique()"
   ]
  },
  {
   "cell_type": "code",
   "execution_count": 11,
   "metadata": {},
   "outputs": [
    {
     "name": "stdout",
     "output_type": "stream",
     "text": [
      "HPO rows: 1158 HPO unique IDs: 1158\n",
      "Gene rows: 82 Gene unique IDs: 82\n",
      "Protein rows: 573 Protein unique IDs: 573\n"
     ]
    }
   ],
   "source": [
    "print(\"HPO rows:\", hpo_binary.shape[0], \"HPO unique IDs:\", hpo_binary.index.nunique())\n",
    "print(\"Gene rows:\", gene_pivot.shape[0], \"Gene unique IDs:\", gene_pivot.index.nunique())\n",
    "print(\"Protein rows:\", protein_pivot.shape[0], \"Protein unique IDs:\", protein_pivot.index.nunique())"
   ]
  },
  {
   "cell_type": "code",
   "execution_count": 12,
   "metadata": {},
   "outputs": [
    {
     "name": "stdout",
     "output_type": "stream",
     "text": [
      "Merged rows: 2345 Unique IDs: 2345\n"
     ]
    }
   ],
   "source": [
    "print(\"Merged rows:\", merged_df.shape[0], \"Unique IDs:\", merged_df['SCIDPSEUDONYM'].nunique())"
   ]
  },
  {
   "cell_type": "code",
   "execution_count": null,
   "metadata": {},
   "outputs": [],
   "source": [
    "#Check duplicates\n",
    "duplicates = merged_df[merged_df.duplicated(subset='SCIDPSEUDONYM', keep=False)]\n",
    "print(\"Duplicate rows:\\n\", duplicates)"
   ]
  },
  {
   "cell_type": "code",
   "execution_count": null,
   "metadata": {},
   "outputs": [],
   "source": [
    "merged_df.head()"
   ]
  },
  {
   "cell_type": "code",
   "execution_count": null,
   "metadata": {},
   "outputs": [],
   "source": [
    "print(merged_df.dtypes)"
   ]
  },
  {
   "cell_type": "code",
   "execution_count": 19,
   "metadata": {},
   "outputs": [],
   "source": [
    "merged_df.to_csv('merged_data.csv')"
   ]
  }
 ],
 "metadata": {
  "kernelspec": {
   "display_name": "Python 3",
   "language": "python",
   "name": "python3"
  },
  "language_info": {
   "codemirror_mode": {
    "name": "ipython",
    "version": 3
   },
   "file_extension": ".py",
   "mimetype": "text/x-python",
   "name": "python",
   "nbconvert_exporter": "python",
   "pygments_lexer": "ipython3",
   "version": "3.8.10"
  }
 },
 "nbformat": 4,
 "nbformat_minor": 2
}

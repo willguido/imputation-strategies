{
 "cells": [
  {
   "cell_type": "code",
   "execution_count": null,
   "metadata": {},
   "outputs": [],
   "source": [
    "# All SCIVIAS data path\n",
    "subjects_path = ''\n",
    "hpo_path = ''\n",
    "diag_path = ''\n",
    "gene_path = ''\n",
    "protein_path = ''"
   ]
  },
  {
   "cell_type": "code",
   "execution_count": 28,
   "metadata": {},
   "outputs": [],
   "source": [
    "import pandas as pd\n",
    "\n",
    "subjects = pd.read_csv(subjects_path, encoding='ascii', delimiter=';')\n",
    "hpo = pd.read_csv(hpo_path, encoding='ascii', delimiter=';')\n",
    "diag = pd.read_csv(diag_path, encoding='ISO-8859-1', delimiter=';')\n",
    "gene = pd.read_csv(gene_path, encoding='ascii', delimiter=';')\n",
    "protein = pd.read_csv(protein_path, encoding='ascii', delimiter=';')\n",
    "\n",
    "# Standardize patient ID column name across all dataframes\n",
    "subjects.rename(columns = {'SCIDPSEUDONYM': 'subject_id'}, inplace=True)\n",
    "hpo.rename(columns={'SCIDPSEUDONYM': 'subject_id'}, inplace=True)\n",
    "diag.rename(columns={'subject_id': 'subject_id'}, inplace=True)\n",
    "gene.rename(columns={'SCIDPSEUDONYM': 'subject_id'}, inplace=True)\n",
    "protein.rename(columns={'SCIDPSEUDONYM': 'subject_id'}, inplace=True)\n"
   ]
  },
  {
   "cell_type": "code",
   "execution_count": null,
   "metadata": {},
   "outputs": [],
   "source": [
    "print(subjects.head())\n",
    "print(subjects.columns)\n",
    "print(subjects.dtypes)\n",
    "print(\"Info:\", subjects.info())\n",
    "print(subjects.sample(5))\n",
    "print(\"Rows:\", subjects.shape[0])\n",
    "print(\"Columns:\", subjects.shape[1])"
   ]
  },
  {
   "cell_type": "code",
   "execution_count": null,
   "metadata": {},
   "outputs": [],
   "source": [
    "print(gene.head())\n",
    "print(gene.columns)\n",
    "print(gene.dtypes)\n",
    "print(\"Info:\", gene.info())\n",
    "print(gene.sample(5))\n",
    "print(\"Rows:\", gene.shape[0])\n",
    "print(\"Columns:\", gene.shape[1])"
   ]
  },
  {
   "cell_type": "code",
   "execution_count": null,
   "metadata": {},
   "outputs": [],
   "source": [
    "print(hpo.head())\n",
    "print(hpo.columns)\n",
    "print(hpo.dtypes)\n",
    "print(\"Info:\", hpo.info())\n",
    "print(hpo.sample(5))\n",
    "print(\"Rows:\", hpo.shape[0])\n",
    "print(\"Columns:\", hpo.shape[1])"
   ]
  },
  {
   "cell_type": "code",
   "execution_count": null,
   "metadata": {},
   "outputs": [],
   "source": [
    "# Are encodings correctly specified above?\n",
    "print(diag.head())\n",
    "print(diag.columns)\n",
    "print(diag.dtypes)\n",
    "print(\"Info\", diag.info())\n",
    "print(diag.sample(5))  \n",
    "print(\"Rows:\", diag.shape[0])\n",
    "print(\"Columns:\", diag.shape[1])\n"
   ]
  },
  {
   "cell_type": "code",
   "execution_count": null,
   "metadata": {},
   "outputs": [],
   "source": [
    "print(protein.head())\n",
    "print(protein.columns)\n",
    "print(protein.dtypes)\n",
    "print(\"Info\", protein.info())\n",
    "print(protein.sample(5))  \n",
    "print(\"Rows:\", protein.shape[0])\n",
    "print(\"Columns:\", protein.shape[1])"
   ]
  },
  {
   "cell_type": "code",
   "execution_count": 8,
   "metadata": {},
   "outputs": [
    {
     "name": "stdout",
     "output_type": "stream",
     "text": [
      "Subjects: (2444, 1)\n",
      "HPO: (2438, 2)\n",
      "Diag: (2483, 4)\n",
      "Gene: (1284, 3)\n",
      "Protein: (407003, 3)\n"
     ]
    }
   ],
   "source": [
    "# Get dimensions of each dataframe\n",
    "print(\"Subjects:\", subjects.shape)\n",
    "print(\"HPO:\", hpo.shape)\n",
    "print(\"Diag:\", diag.shape)\n",
    "print(\"Gene:\", gene.shape)\n",
    "print(\"Protein:\", protein.shape)"
   ]
  },
  {
   "cell_type": "code",
   "execution_count": 9,
   "metadata": {},
   "outputs": [
    {
     "name": "stdout",
     "output_type": "stream",
     "text": [
      "Unique Patient IDs in each file:\n",
      "Subjects: 2444\n",
      "HPO: 1158\n",
      "Diag: 2217\n",
      "Gene: 82\n",
      "Protein: 573\n"
     ]
    }
   ],
   "source": [
    "# Count unique patients\n",
    "print(\"Unique Patient IDs in each file:\")\n",
    "print(\"Subjects:\", subjects['subject_id'].nunique())\n",
    "print(\"HPO:\", hpo['subject_id'].nunique())\n",
    "print(\"Diag:\", diag['subject_id'].nunique())\n",
    "print(\"Gene:\", gene['subject_id'].nunique())\n",
    "print(\"Protein:\", protein['subject_id'].nunique())"
   ]
  },
  {
   "cell_type": "code",
   "execution_count": null,
   "metadata": {},
   "outputs": [],
   "source": [
    "ids_subjects = set(subjects['subject_id'])\n",
    "ids_hpo = set(hpo['subject_id'])\n",
    "ids_diag = set(diag['subject_id'])\n",
    "ids_gene = set(gene['subject_id'])\n",
    "ids_protein = set(protein['subject_id'])"
   ]
  },
  {
   "cell_type": "code",
   "execution_count": null,
   "metadata": {},
   "outputs": [
    {
     "name": "stdout",
     "output_type": "stream",
     "text": [
      "Subjects in all files: 28\n",
      "Subjects in Subjects and HPO: 1158\n",
      "Subjects in Subjects and Diag: 2217\n",
      "Subjects in Subjects and Gene: 82\n",
      "Subjects in Subjects and Protein: 573 \n",
      "\n",
      "Subjects in HPO, Diag, and Gene: 67\n"
     ]
    }
   ],
   "source": [
    "# Find subjects present in all files\n",
    "overlap_all = ids_subjects & ids_hpo & ids_diag & ids_gene & ids_protein\n",
    "\n",
    "# Look for specific overlaps\n",
    "overlap_subjects_hpo = ids_subjects & ids_hpo\n",
    "overlap_subjects_diag = ids_subjects & ids_diag\n",
    "overlap_subjects_gene = ids_subjects & ids_gene\n",
    "overlap_subjects_protein = ids_subjects & ids_protein\n",
    "\n",
    "overlap_hpo_diag_gene = ids_hpo & ids_diag & ids_gene\n",
    "\n",
    "# Print the counts for each overlap\n",
    "print(\"Subjects in all files:\", len(overlap_all))\n",
    "print(\"Subjects in Subjects and HPO:\", len(overlap_subjects_hpo))\n",
    "print(\"Subjects in Subjects and Diag:\", len(overlap_subjects_diag))\n",
    "print(\"Subjects in Subjects and Gene:\", len(overlap_subjects_gene))\n",
    "print(\"Subjects in Subjects and Protein:\", len(overlap_subjects_protein), \"\\n\")\n",
    "print(\"Subjects in HPO, Diag, and Gene:\", len(overlap_hpo_diag_gene))"
   ]
  },
  {
   "cell_type": "code",
   "execution_count": 12,
   "metadata": {},
   "outputs": [
    {
     "name": "stdout",
     "output_type": "stream",
     "text": [
      "Subjects and Diagnosis: 2217 subjects\n",
      "Subjects and HPO: 1158 subjects\n",
      "Subjects and Gene: 82 subjects\n",
      "Subjects and Protein: 573 subjects\n",
      "Diagnosis and HPO: 1053 subjects\n",
      "Diagnosis and Gene: 71 subjects\n",
      "Diagnosis and Protein: 512 subjects\n",
      "HPO and Gene: 76 subjects\n",
      "HPO and Protein: 367 subjects\n",
      "Gene and Protein: 35 subjects\n",
      "Subjects and Diagnosis and HPO: 1053 subjects\n",
      "Subjects and Diagnosis and Gene: 71 subjects\n",
      "Subjects and Diagnosis and Protein: 512 subjects\n",
      "Subjects and HPO and Gene: 76 subjects\n",
      "Subjects and HPO and Protein: 367 subjects\n",
      "Subjects and Gene and Protein: 35 subjects\n",
      "Diagnosis and HPO and Gene: 67 subjects\n",
      "Diagnosis and HPO and Protein: 327 subjects\n",
      "Diagnosis and Gene and Protein: 29 subjects\n",
      "HPO and Gene and Protein: 34 subjects\n",
      "Subjects and Diagnosis and HPO and Gene: 67 subjects\n",
      "Subjects and Diagnosis and HPO and Protein: 327 subjects\n",
      "Subjects and Diagnosis and Gene and Protein: 29 subjects\n",
      "Subjects and HPO and Gene and Protein: 34 subjects\n",
      "Diagnosis and HPO and Gene and Protein: 28 subjects\n",
      "Subjects and Diagnosis and HPO and Gene and Protein: 28 subjects\n"
     ]
    }
   ],
   "source": [
    "# Calculate overlaps for each combination\n",
    "ids_subjects_and_ids_diag = ids_subjects & ids_diag\n",
    "ids_subjects_and_ids_hpo = ids_subjects & ids_hpo\n",
    "ids_subjects_and_ids_gene = ids_subjects & ids_gene\n",
    "ids_subjects_and_ids_protein = ids_subjects & ids_protein\n",
    "ids_diag_and_ids_hpo = ids_diag & ids_hpo\n",
    "ids_diag_and_ids_gene = ids_diag & ids_gene\n",
    "ids_diag_and_ids_protein = ids_diag & ids_protein\n",
    "ids_hpo_and_ids_gene = ids_hpo & ids_gene\n",
    "ids_hpo_and_ids_protein = ids_hpo & ids_protein\n",
    "ids_gene_and_ids_protein = ids_gene & ids_protein\n",
    "\n",
    "ids_subjects_and_ids_diag_and_ids_hpo = ids_subjects & ids_diag & ids_hpo\n",
    "ids_subjects_and_ids_diag_and_ids_gene = ids_subjects & ids_diag & ids_gene\n",
    "ids_subjects_and_ids_diag_and_ids_protein = ids_subjects & ids_diag & ids_protein\n",
    "ids_subjects_and_ids_hpo_and_ids_gene = ids_subjects & ids_hpo & ids_gene\n",
    "ids_subjects_and_ids_hpo_and_ids_protein = ids_subjects & ids_hpo & ids_protein\n",
    "ids_subjects_and_ids_gene_and_ids_protein = ids_subjects & ids_gene & ids_protein\n",
    "ids_diag_and_ids_hpo_and_ids_gene = ids_diag & ids_hpo & ids_gene\n",
    "ids_diag_and_ids_hpo_and_ids_protein = ids_diag & ids_hpo & ids_protein\n",
    "ids_diag_and_ids_gene_and_ids_protein = ids_diag & ids_gene & ids_protein\n",
    "ids_hpo_and_ids_gene_and_ids_protein = ids_hpo & ids_gene & ids_protein\n",
    "\n",
    "ids_subjects_and_ids_diag_and_ids_hpo_and_ids_gene = ids_subjects & ids_diag & ids_hpo & ids_gene\n",
    "ids_subjects_and_ids_diag_and_ids_hpo_and_ids_protein = ids_subjects & ids_diag & ids_hpo & ids_protein\n",
    "ids_subjects_and_ids_diag_and_ids_gene_and_ids_protein = ids_subjects & ids_diag & ids_gene & ids_protein\n",
    "ids_subjects_and_ids_hpo_and_ids_gene_and_ids_protein = ids_subjects & ids_hpo & ids_gene & ids_protein\n",
    "ids_diag_and_ids_hpo_and_ids_gene_and_ids_protein = ids_diag & ids_hpo & ids_gene & ids_protein\n",
    "\n",
    "ids_subjects_and_ids_diag_and_ids_hpo_and_ids_gene_and_ids_protein = ids_subjects & ids_diag & ids_hpo & ids_gene & ids_protein\n",
    "\n",
    "print(f\"Subjects and Diagnosis: {len(ids_subjects_and_ids_diag)} subjects\")\n",
    "print(f\"Subjects and HPO: {len(ids_subjects_and_ids_hpo)} subjects\")\n",
    "print(f\"Subjects and Gene: {len(ids_subjects_and_ids_gene)} subjects\")\n",
    "print(f\"Subjects and Protein: {len(ids_subjects_and_ids_protein)} subjects\")\n",
    "print(f\"Diagnosis and HPO: {len(ids_diag_and_ids_hpo)} subjects\")\n",
    "print(f\"Diagnosis and Gene: {len(ids_diag_and_ids_gene)} subjects\")\n",
    "print(f\"Diagnosis and Protein: {len(ids_diag_and_ids_protein)} subjects\")\n",
    "print(f\"HPO and Gene: {len(ids_hpo_and_ids_gene)} subjects\")\n",
    "print(f\"HPO and Protein: {len(ids_hpo_and_ids_protein)} subjects\")\n",
    "print(f\"Gene and Protein: {len(ids_gene_and_ids_protein)} subjects\")\n",
    "\n",
    "print(f\"Subjects and Diagnosis and HPO: {len(ids_subjects_and_ids_diag_and_ids_hpo)} subjects\")\n",
    "print(f\"Subjects and Diagnosis and Gene: {len(ids_subjects_and_ids_diag_and_ids_gene)} subjects\")\n",
    "print(f\"Subjects and Diagnosis and Protein: {len(ids_subjects_and_ids_diag_and_ids_protein)} subjects\")\n",
    "print(f\"Subjects and HPO and Gene: {len(ids_subjects_and_ids_hpo_and_ids_gene)} subjects\")\n",
    "print(f\"Subjects and HPO and Protein: {len(ids_subjects_and_ids_hpo_and_ids_protein)} subjects\")\n",
    "print(f\"Subjects and Gene and Protein: {len(ids_subjects_and_ids_gene_and_ids_protein)} subjects\")\n",
    "print(f\"Diagnosis and HPO and Gene: {len(ids_diag_and_ids_hpo_and_ids_gene)} subjects\")\n",
    "print(f\"Diagnosis and HPO and Protein: {len(ids_diag_and_ids_hpo_and_ids_protein)} subjects\")\n",
    "print(f\"Diagnosis and Gene and Protein: {len(ids_diag_and_ids_gene_and_ids_protein)} subjects\")\n",
    "print(f\"HPO and Gene and Protein: {len(ids_hpo_and_ids_gene_and_ids_protein)} subjects\")\n",
    "\n",
    "print(f\"Subjects and Diagnosis and HPO and Gene: {len(ids_subjects_and_ids_diag_and_ids_hpo_and_ids_gene)} subjects\")\n",
    "print(f\"Subjects and Diagnosis and HPO and Protein: {len(ids_subjects_and_ids_diag_and_ids_hpo_and_ids_protein)} subjects\")\n",
    "print(f\"Subjects and Diagnosis and Gene and Protein: {len(ids_subjects_and_ids_diag_and_ids_gene_and_ids_protein)} subjects\")\n",
    "print(f\"Subjects and HPO and Gene and Protein: {len(ids_subjects_and_ids_hpo_and_ids_gene_and_ids_protein)} subjects\")\n",
    "print(f\"Diagnosis and HPO and Gene and Protein: {len(ids_diag_and_ids_hpo_and_ids_gene_and_ids_protein)} subjects\")\n",
    "\n",
    "print(f\"Subjects and Diagnosis and HPO and Gene and Protein: {len(ids_subjects_and_ids_diag_and_ids_hpo_and_ids_gene_and_ids_protein)} subjects\")"
   ]
  },
  {
   "cell_type": "code",
   "execution_count": null,
   "metadata": {},
   "outputs": [],
   "source": [
    "# FURTHER ANALYSIS OF CATEGORICAL AND NUMERICAL VALUES\n",
    "#Gene\n",
    "\n",
    "categorical_columns = ['gene'] \n",
    "numeric_columns = ['CADD']\n",
    "\n",
    "# CADD is stored as object. Turn into float64 for a proper analysis\n",
    "print(gene['CADD'].dtypes)\n",
    "\n",
    "# Check value counts for each categorical column\n",
    "for col in categorical_columns:\n",
    "    value_counts = gene[col].value_counts()\n",
    "    print(f\"Value counts for {col}:\\n\", value_counts)\n",
    "    print(\"-\" * 40)\n",
    "\n",
    "    # Calculate the number of least frequent values\n",
    "    least_frequent = value_counts[value_counts == 1]\n",
    "    num_least_frequent = len(least_frequent)\n",
    "    print(f\"Number of unique {col} values: {len(value_counts)}\")\n",
    "    print(f\"Number of {col} values that appear only once: {num_least_frequent}\")\n",
    "    print(\"=\" * 40)\n",
    "\n",
    "# Describe numeric columns to get summary statistics\n",
    "print(\"Summary statistics for numeric columns:\\n\", gene[numeric_columns].describe())\n",
    "\n",
    "# Check for missing values across all columns\n",
    "print(\"Missing values per column:\\n\", gene.isnull().sum())\n"
   ]
  },
  {
   "cell_type": "code",
   "execution_count": null,
   "metadata": {},
   "outputs": [],
   "source": [
    "#HPO\n",
    "\n",
    "categorical_columns = ['hpoTermId'] \n",
    "\n",
    "# Check value counts for each categorical column\n",
    "for col in categorical_columns:\n",
    "    unique_count = hpo[col].nunique()\n",
    "    \n",
    "    print(f\"Value counts for {col}:\\n\", hpo[col].value_counts())\n",
    "    print(f\"Total unique values (Length): {unique_count}\")\n",
    "    print(\"-\" * 40)\n",
    "\n",
    "# Check for missing values across all columns\n",
    "print(\"Missing values per column:\\n\", hpo.isnull().sum())"
   ]
  },
  {
   "cell_type": "code",
   "execution_count": null,
   "metadata": {},
   "outputs": [],
   "source": [
    "categorical_columns = ['Gene'] \n",
    "numeric_columns = ['VALUE']\n",
    "\n",
    "# Check value counts for each categorical column\n",
    "for col in categorical_columns:\n",
    "    value_counts = protein[col].value_counts()\n",
    "    print(f\"Value counts for {col}:\\n\", value_counts)\n",
    "    print(\"-\" * 40)\n",
    "\n",
    "    # Calculate the number of least frequent values \n",
    "    least_frequent = value_counts[value_counts == 1]\n",
    "    num_least_frequent = len(least_frequent)\n",
    "    print(f\"Number of unique {col} values: {len(value_counts)}\")\n",
    "    print(f\"Number of {col} values that appear only once: {num_least_frequent}\")\n",
    "    print(\"=\" * 40)\n",
    "\n",
    "# Describe numeric columns to get summary statistics\n",
    "print(\"Summary statistics for numeric columns:\\n\", protein[numeric_columns].describe())\n",
    "\n",
    "# Check for missing values across all columns\n",
    "print(\"Missing values per column:\\n\", protein.isnull().sum())"
   ]
  },
  {
   "cell_type": "code",
   "execution_count": null,
   "metadata": {},
   "outputs": [],
   "source": [
    "# Diagnosis\n",
    "\n",
    "# Frequency analysis\n",
    "print(\"Diagnosis Category Distribution:\\n\", diag['diag'].value_counts())\n",
    "print(\"\\nYes/No Distribution in Genetically Confirmed:\\n\", diag['genetically_confirmed'].value_counts())\n",
    "print(\"\\nYes/No Distribution in Testset:\\n\", diag['testset'].value_counts())\n",
    "\n",
    "# Least Frequent Diagnoses\n",
    "least_frequent_diag = diag['diag'].value_counts()[diag['diag'].value_counts() == 1]\n",
    "num_least_frequent = len(least_frequent_diag)\n",
    "print(f\"\\nNumber of diag values that appear only once: {num_least_frequent}\")"
   ]
  }
 ],
 "metadata": {
  "kernelspec": {
   "display_name": "Python 3",
   "language": "python",
   "name": "python3"
  },
  "language_info": {
   "codemirror_mode": {
    "name": "ipython",
    "version": 3
   },
   "file_extension": ".py",
   "mimetype": "text/x-python",
   "name": "python",
   "nbconvert_exporter": "python",
   "pygments_lexer": "ipython3",
   "version": "3.8.10"
  }
 },
 "nbformat": 4,
 "nbformat_minor": 2
}
